{
 "cells": [
  {
   "cell_type": "markdown",
   "metadata": {},
   "source": [
    "## Test: Notebook for testing short junks of code "
   ]
  },
  {
   "cell_type": "code",
   "execution_count": 3,
   "metadata": {},
   "outputs": [
    {
     "ename": "TypeError",
     "evalue": "only length-1 arrays can be converted to Python scalars",
     "output_type": "error",
     "traceback": [
      "\u001b[1;31m---------------------------------------------------------------------------\u001b[0m",
      "\u001b[1;31mTypeError\u001b[0m                                 Traceback (most recent call last)",
      "Cell \u001b[1;32mIn[3], line 5\u001b[0m\n\u001b[0;32m      2\u001b[0m \u001b[39mimport\u001b[39;00m \u001b[39mnumpy\u001b[39;00m \u001b[39mas\u001b[39;00m \u001b[39mnp\u001b[39;00m\n\u001b[0;32m      4\u001b[0m y \u001b[39m=\u001b[39m np\u001b[39m.\u001b[39marray([\u001b[39m1\u001b[39m, \u001b[39m2\u001b[39m, \u001b[39m3\u001b[39m, \u001b[39m4\u001b[39m])\n\u001b[1;32m----> 5\u001b[0m x \u001b[39m=\u001b[39m \u001b[39mint\u001b[39;49m(y)\n\u001b[0;32m      7\u001b[0m \u001b[39mprint\u001b[39m(x)\n\u001b[0;32m      8\u001b[0m \u001b[39mprint\u001b[39m(y)\n",
      "\u001b[1;31mTypeError\u001b[0m: only length-1 arrays can be converted to Python scalars"
     ]
    }
   ],
   "source": [
    "# Dealing with error of vectorizing DataArray\n",
    "import numpy as np\n",
    "\n",
    "y = np.array([1, 2, 3, 4])\n",
    "x = int(y)\n",
    "\n",
    "print(x)\n",
    "print(y)"
   ]
  },
  {
   "cell_type": "code",
   "execution_count": 7,
   "metadata": {},
   "outputs": [
    {
     "name": "stdout",
     "output_type": "stream",
     "text": [
      "[1 2 3 4]\n",
      "[1 2 3 4]\n"
     ]
    }
   ],
   "source": [
    "vector = np.vectorize(int)\n",
    "\n",
    "y = np.array([1, 2, 3, 4])\n",
    "x = vector(y)\n",
    "\n",
    "print(x)\n",
    "print(y)"
   ]
  },
  {
   "cell_type": "code",
   "execution_count": null,
   "metadata": {},
   "outputs": [],
   "source": [
    "# Plotting Maps of Sensible Heat (r_ah and related) with added points of hot/cold Pixel\n",
    "\n",
    "# Plot the data\n",
    "f, ax=plt.subplots()\n",
    "r_ah.plot.imshow(ax=ax,\n",
    "                  cmap = \"Greys\")\n",
    "plt.scatter([3.417e+05],[5.571e+06], color='red', s=5)\n",
    "plt.scatter([4.616e+05],[5.46e+06], color='blue', s=5)\n",
    "ax.set_axis_off()\n",
    "ax.set_title(\"\")\n",
    "plt.show()"
   ]
  },
  {
   "cell_type": "code",
   "execution_count": null,
   "metadata": {},
   "outputs": [],
   "source": [
    "r_ah.plot()\n",
    "plt.scatter([3.417e+05],[5.571e+06], color='red', s=5)\n"
   ]
  },
  {
   "cell_type": "code",
   "execution_count": null,
   "metadata": {},
   "outputs": [],
   "source": [
    "# Create Box around Hot Pixel for plotting / Clipping / Plotting\n",
    "\n",
    "geodf = gpd.GeoDataFrame(\n",
    "    geometry=[\n",
    "        box(325000, 5530000, 352500, 5630000)\n",
    "    ],\n",
    "    crs=\"EPSG:32632\"\n",
    ")\n",
    "\n",
    "\n",
    "clipped = r_ah.rio.clip(geodf.geometry.values, geodf.crs, drop = True)\n",
    "\n",
    "\n",
    "# Plot the data\n",
    "f, ax=plt.subplots()\n",
    "clipped.plot.imshow(ax=ax)\n",
    "plt.scatter([3.417e+05],[5.571e+06], color='red', s=5)\n",
    "ax.set_axis_off()\n",
    "ax.set_title(\"\")\n",
    "plt.show()"
   ]
  },
  {
   "cell_type": "code",
   "execution_count": null,
   "metadata": {},
   "outputs": [],
   "source": [
    "# RGB Stack of clipped area\n",
    "rgb_hot = np.dstack((clipped_hot4, clipped_hot3, clipped_hot2))\n",
    "plt.imshow(rgb_hot)"
   ]
  },
  {
   "cell_type": "code",
   "execution_count": null,
   "metadata": {},
   "outputs": [],
   "source": [
    "# Test/Calcualte single value of psi_m_200 // Stability correction\n",
    "L_mo_test = 1\n",
    "\n",
    "x_200_test = (1-(16*200/L_mo_test))**0.25\n",
    "print(x_200_test)\n",
    "\n",
    "psi_m_200_neg_test = (2*np.log((1+x_200_test)/ 2)) + np.log((1+x_200_test**2)/2) - 2*np.arctan(x_200_test) + 0.5*math.pi\n",
    "print(psi_m_200_neg_test)"
   ]
  }
 ],
 "metadata": {
  "kernelspec": {
   "display_name": "ET_master_project",
   "language": "python",
   "name": "python3"
  },
  "language_info": {
   "codemirror_mode": {
    "name": "ipython",
    "version": 3
   },
   "file_extension": ".py",
   "mimetype": "text/x-python",
   "name": "python",
   "nbconvert_exporter": "python",
   "pygments_lexer": "ipython3",
   "version": "3.11.4"
  },
  "orig_nbformat": 4
 },
 "nbformat": 4,
 "nbformat_minor": 2
}
